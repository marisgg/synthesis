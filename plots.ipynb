{
 "cells": [
  {
   "cell_type": "code",
   "execution_count": null,
   "metadata": {},
   "outputs": [],
   "source": [
    "import pickle\n",
    "import numpy as np\n",
    "import pandas as pd\n",
    "import seaborn as sns\n",
    "import matplotlib.pyplot as plt\n",
    "from matplotlib.patches import Rectangle\n",
    "from config import *\n",
    "import operator\n",
    "import os"
   ]
  },
  {
   "cell_type": "code",
   "execution_count": null,
   "metadata": {},
   "outputs": [],
   "source": [
    "# BASE_DIR='./outputs/second'\n",
    "# BASE_DIR='./output-union'\n",
    "# BASE_DIR='./bert/output-merged'\n",
    "# BASE_DIR='./output-parallel-subfamily'\n",
    "# BASE_DIR='./output-parallel-bert'\n",
    "BASE_DIR='/opt/payntdev/verifai/output/parallel-full'\n",
    "SUBFAMILY_SIZE=10"
   ]
  },
  {
   "cell_type": "code",
   "execution_count": null,
   "metadata": {},
   "outputs": [],
   "source": [
    "OUTPUT_DIR = \"./plot_builder_output-clean\"\n",
    "os.makedirs(f\"{OUTPUT_DIR}/heatmaps\", exist_ok=True)\n",
    "os.makedirs(f\"{OUTPUT_DIR}/lineplot\", exist_ok=True)"
   ]
  },
  {
   "cell_type": "code",
   "execution_count": null,
   "metadata": {},
   "outputs": [],
   "source": [
    "def make_heatmap(results : dict, our_results : dict, title : str, baseline : str, union_results : dict = None, minimizing = True, add_whole_family_value = True):\n",
    "    values = np.array([list(item[-2].values()) for train, item in results.items()]).squeeze(axis=-1)\n",
    "    values[~np.isfinite(values)] = np.nan\n",
    "    # if add_whole_family_value:\n",
    "        # entire_family_values = np.array([item[-1] for train, item in results.items()])\n",
    "        # values = np.hstack([values, entire_family_values[..., None]])\n",
    "    if union_results:\n",
    "        values = np.vstack([values, union_results['subfamily']])\n",
    "    values = np.vstack([values, our_results['ours']])\n",
    "    if add_whole_family_value:\n",
    "        entire_family_values = np.array([item[-1] if item[-1] is not None else np.nan for train, item in results.items()] + ([union_results['whole_family']] if union_results else []) + [our_results['whole_family']])\n",
    "        # entire_family_values[~np.isfinite(entire_family_values)] = np.nan\n",
    "        values = np.hstack([values, entire_family_values[..., None]])\n",
    "    plt.figure(figsize=(16,9))\n",
    "    \n",
    "    if minimizing:\n",
    "        colormap = sns.cm.rocket_r\n",
    "        # colormap.set_bad(sns.cm.rocket.get_bad())\n",
    "    else:\n",
    "        colormap = sns.cm.rocket\n",
    "    # colormap.set_bad('black')\n",
    "    \n",
    "    \n",
    "    ax = sns.heatmap(values, annot=True, vmin=np.nanmin(values), vmax=np.nanmax(values), cmap=colormap, fmt='.2f')#, mask=~np.isfinite(values))\n",
    "    \n",
    "    # if add_whole_family_value:\n",
    "        # ax.add_patch(Rectangle((0,0), 10, 11, fill=False, edgecolor='white', lw=3)) # White bounding box\n",
    "    \n",
    "    subfamily_size = len(results.keys())\n",
    "    \n",
    "    best_value = np.inf if minimizing else -np.inf\n",
    "    for r in range(values.shape[0]):\n",
    "        row_values = values[r][:-1] if add_whole_family_value else values[r]\n",
    "        idx = np.nanargmax(row_values) if minimizing else np.nanargmin(row_values)\n",
    "        cmp = operator.le if minimizing else operator.ge\n",
    "        if cmp(row_values[idx], best_value):\n",
    "            best_value = row_values[idx]\n",
    "            best_rectangle = (idx, r)\n",
    "        ax.add_patch(Rectangle((idx, r),1,1, fill=False, edgecolor='blue', lw=3))\n",
    "    ax.add_patch(Rectangle(best_rectangle,1,1, fill=False, edgecolor='green', lw=3))\n",
    "    \n",
    "    if add_whole_family_value:\n",
    "        best_family_idx = np.nanargmin(values[:, -1]) if minimizing else np.nanargmax(values[:, -1])\n",
    "        ax.add_patch(Rectangle((subfamily_size, best_family_idx),1,1, fill=False, edgecolor='green', lw=3))\n",
    "    \n",
    "    ax.set_xlabel(\"Test\")\n",
    "    ax.set_ylabel(\"Train\")\n",
    "    plt.yticks(rotation=0) \n",
    "    xticks = [f\"{i}\" for i in range(subfamily_size)]\n",
    "    if add_whole_family_value:\n",
    "        xticks += [\"Entire family\"]\n",
    "    ax.set_xticklabels(xticks) \n",
    "    ax.set_yticklabels([f\"{baseline} on {i} ({results[i][1].num_nodes}-FSC)\" for i in range(subfamily_size)] + ([\"Saynt on Union\"] if union_results else []) + [\"Ours: GD on (sub)family\"])\n",
    "    ax.set_title(f\"{title}: {baseline} vs Ours ({'lower' if minimizing else 'higher'} is better)\")\n",
    "    plt.tight_layout()\n",
    "    plt.savefig(f\"{OUTPUT_DIR}/heatmaps/{title}-{baseline}.png\")"
   ]
  },
  {
   "cell_type": "code",
   "execution_count": null,
   "metadata": {},
   "outputs": [],
   "source": [
    "import math\n",
    "import random\n",
    "\n",
    "\n",
    "def make_lineplot(results : dict, title : str = 'Placeholder', minimizing = True, type_of_plot = 'family_trace', use_time_x_axis=False):\n",
    "    fig = plt.figure()\n",
    "    ax = fig.gca()\n",
    "    plt.title(f\"{title} ({'lower' if minimizing else 'higher'} is better)\")\n",
    "    plt.ylabel(\"Worst family member value\")\n",
    "    \n",
    "    max_time_normal = max(results['gd-normal']['plot_times'])\n",
    "    max_time_random = max(results['gd-random']['plot_times'])\n",
    "    \n",
    "    results['gd-random']['plot_times'] = (np.array(results['gd-random']['plot_times']) / max_time_random) * max_time_normal\n",
    "    \n",
    "    print(max_time_normal, max_time_random)\n",
    "    \n",
    "    if use_time_x_axis:\n",
    "        plt.xlabel(\"Time\")\n",
    "        ax.plot(results['gd-normal']['plot_times'], results['gd-normal'][type_of_plot], label='rfPG', color='green')\n",
    "    else:\n",
    "        plt.xlabel(\"Iteration\")\n",
    "        ax.plot(results['gd-normal'][type_of_plot], label='rfPG', color='green')\n",
    "    \n",
    "    min_x_normal = np.argmin(results['gd-normal'][type_of_plot]) if minimizing else np.argmax(results['gd-normal'][type_of_plot])\n",
    "    min_y_normal = results['gd-normal'][type_of_plot][min_x_normal]\n",
    "    if use_time_x_axis: min_x_normal = results['gd-normal']['plot_times'][min_x_normal]\n",
    "    \n",
    "    # plt.plot(results['gd-no-momentum'][type_of_plot], label='rfPG (no momentum)', color='blue')\n",
    "    \n",
    "    # min_x_no_mom = np.argmin(results['gd-no-momentum'][type_of_plot]) if minimizing else np.argmax(results['gd-no-momentum'][type_of_plot])\n",
    "    # min_y_no_mom = results['gd-no-momentum'][type_of_plot][min_x_no_mom]\n",
    "    \n",
    "    \n",
    "    \n",
    "    if use_time_x_axis:\n",
    "        ax.plot(results['gd-random']['plot_times'], results['gd-random'][type_of_plot], label='Random rfPG', color='red')\n",
    "    else:\n",
    "        exit()\n",
    "        ax.plot(results['gd-random'][type_of_plot], label='Random rfPG', color='red')\n",
    "\n",
    "    min_x = np.argmin(results['gd-random'][type_of_plot]) if minimizing else np.argmax(results['gd-random'][type_of_plot])\n",
    "    min_y = results['gd-random'][type_of_plot][min_x]\n",
    "    if use_time_x_axis: min_x = results['gd-random']['plot_times'][min_x]\n",
    "    \n",
    "    mini = min([min_x, min_x_normal])\n",
    "    maxi = max([min_x, min_x_normal])\n",
    "    \n",
    "    def get(x):\n",
    "        if math.isclose(mini, maxi) and math.isclose(x, maxi):\n",
    "            return random.randint(-50, 50)\n",
    "        elif math.isclose(x, maxi):\n",
    "            return 50\n",
    "        elif math.isclose(x, mini):\n",
    "            return -50\n",
    "        else:\n",
    "            return 0\n",
    "    \n",
    "    ax.annotate(f\"{min_y:.2f}\",\n",
    "            xy=(min_x, min_y), xycoords='data',\n",
    "            xytext=(get(min_x), (50 if minimizing else -50)), textcoords='offset points',\n",
    "            arrowprops=dict(facecolor='red', shrink=0),\n",
    "            horizontalalignment='center', verticalalignment='bottom')\n",
    "    \n",
    "    ax.annotate(f\"{min_y_normal:.2f}\",\n",
    "                xy=(min_x_normal, min_y_normal), xycoords='data',\n",
    "                xytext=(get(min_x_normal), (50 if minimizing else -50)), textcoords='offset points',\n",
    "                arrowprops=dict(facecolor='green', shrink=0),\n",
    "                horizontalalignment='center', verticalalignment='bottom')\n",
    "    \n",
    "    # ax.annotate(f\"{min_y_no_mom:.2f}\",\n",
    "    #     xy=(min_x_no_mom, min_y_no_mom), xycoords='data',\n",
    "    #     xytext=(get(min_x_no_mom), (50 if minimizing else -50)), textcoords='offset points',\n",
    "    #     arrowprops=dict(facecolor='blue', shrink=0),\n",
    "    #     horizontalalignment='center', verticalalignment='bottom')\n",
    "    \n",
    "    plt.legend()\n",
    "    plt.tight_layout()\n",
    "    plt.savefig(f\"{OUTPUT_DIR}/lineplot/{title}.png\")\n",
    "    plt.show()"
   ]
  },
  {
   "cell_type": "code",
   "execution_count": null,
   "metadata": {},
   "outputs": [],
   "source": [
    "results['gd-normal'].keys()"
   ]
  },
  {
   "cell_type": "code",
   "execution_count": null,
   "metadata": {},
   "outputs": [],
   "source": [
    "ENVS = ['dpm', 'obstacles-10-2', 'avoid', 'obstacles-8-3', 'rover', 'network']\n",
    "MINIMIZING = [False, True, True, True, False, False]"
   ]
  },
  {
   "cell_type": "code",
   "execution_count": null,
   "metadata": {},
   "outputs": [],
   "source": [
    "for env, minimizing in zip(ENVS, MINIMIZING):\n",
    "    try:\n",
    "        with open(f\"{BASE_DIR}/{env}/gd-experiment.pickle\", 'rb') as handle:\n",
    "            results = pickle.load(handle)\n",
    "            make_lineplot(results, title=env, minimizing=minimizing, use_time_x_axis=True)\n",
    "    except FileNotFoundError as fnfe:\n",
    "        print(fnfe)"
   ]
  },
  {
   "cell_type": "markdown",
   "metadata": {},
   "source": [
    "# DEFAULT FUNC"
   ]
  },
  {
   "cell_type": "code",
   "execution_count": null,
   "metadata": {},
   "outputs": [],
   "source": [
    "def create_heatmap(env : str, plot_gradient_baseline = False, include_union_results = False, **kwargs):\n",
    "    with open(f\"{BASE_DIR}/{env}/{SUBFAMILY_SIZE}/saynt.pickle\", 'rb') as handle:\n",
    "        saynt = pickle.load(handle)\n",
    "        \n",
    "    with open(f\"{BASE_DIR}/{env}/{SUBFAMILY_SIZE}/ours.pickle\", 'rb') as handle:\n",
    "        ours = pickle.load(handle)\n",
    "    \n",
    "    if include_union_results:\n",
    "        try:\n",
    "            with open(f\"{BASE_DIR}/{env}/union/union.pickle\", 'rb') as handle: \n",
    "                union_results = pickle.load(handle)\n",
    "        except Exception as e:\n",
    "            print(e)\n",
    "            union_results = None\n",
    "    else:\n",
    "        union_results = None\n",
    "    \n",
    "    if plot_gradient_baseline:\n",
    "        with open(f\"{BASE_DIR}/{env}/{SUBFAMILY_SIZE}/gradient.pickle\", 'rb') as handle:\n",
    "            gradient = pickle.load(handle)\n",
    "        \n",
    "        make_heatmap(gradient, ours, env.upper(), \"GD\", union_results=union_results, **kwargs)\n",
    "            \n",
    "    make_heatmap(saynt, ours, env.upper(), \"Saynt\", union_results=union_results, **kwargs)\n"
   ]
  },
  {
   "cell_type": "markdown",
   "metadata": {},
   "source": [
    "# ALL"
   ]
  },
  {
   "cell_type": "code",
   "execution_count": null,
   "metadata": {},
   "outputs": [],
   "source": [
    "for env, minimizing in zip(ENVS, MINIMIZING):\n",
    "    create_heatmap(env, minimizing=minimizing, include_union_results=True)"
   ]
  },
  {
   "cell_type": "code",
   "execution_count": null,
   "metadata": {},
   "outputs": [],
   "source": []
  },
  {
   "cell_type": "markdown",
   "metadata": {},
   "source": [
    "# EXAMPLE"
   ]
  },
  {
   "cell_type": "code",
   "execution_count": null,
   "metadata": {},
   "outputs": [],
   "source": [
    "EXAMPLE_DIR = f\"{BASE_DIR}/obstacles-illustrative-2/{SUBFAMILY_SIZE}\""
   ]
  },
  {
   "cell_type": "code",
   "execution_count": null,
   "metadata": {},
   "outputs": [],
   "source": [
    "from pomdp_families import POMDPFamiliesSynthesis\n",
    "from config import ILLUSTRATIVE\n",
    "\n",
    "seed = 11\n",
    "gd = POMDPFamiliesSynthesis(ILLUSTRATIVE, use_softmax=True, steps=1, learning_rate=0.01, seed=seed)\n",
    "subfamily_assigments, hole_combinations = gd.stratified_subfamily_sampling(SUBFAMILY_SIZE, seed=seed)"
   ]
  },
  {
   "cell_type": "code",
   "execution_count": null,
   "metadata": {},
   "outputs": [],
   "source": [
    "with open(f\"{EXAMPLE_DIR}/ours-sparse.pickle\", 'rb') as handle:\n",
    "    ours = pickle.load(handle)"
   ]
  },
  {
   "cell_type": "code",
   "execution_count": null,
   "metadata": {},
   "outputs": [],
   "source": [
    "fsc = ours['fsc']\n",
    "fsc.num_nodes"
   ]
  },
  {
   "cell_type": "code",
   "execution_count": null,
   "metadata": {},
   "outputs": [],
   "source": [
    "gd.paynt_call_given_fsc(fsc)"
   ]
  },
  {
   "cell_type": "code",
   "execution_count": null,
   "metadata": {},
   "outputs": [],
   "source": [
    "import copy\n",
    "det_fsc = copy.deepcopy(fsc)\n",
    "for node in range(det_fsc.num_nodes):\n",
    "    for obs in range(det_fsc.num_observations):\n",
    "        det_fsc.action_function[node][obs] = max(fsc.action_function[node][obs], key=fsc.action_function[node][obs].get)        \n",
    "        det_fsc.update_function[node][obs] = max(fsc.update_function[node][obs], key=fsc.update_function[node][obs].get)\n",
    "det_fsc.is_deterministic = True"
   ]
  },
  {
   "cell_type": "code",
   "execution_count": null,
   "metadata": {},
   "outputs": [],
   "source": [
    "det_fsc.make_stochastic()\n",
    "gd.paynt_call_given_fsc(det_fsc)"
   ]
  },
  {
   "cell_type": "code",
   "execution_count": null,
   "metadata": {},
   "outputs": [],
   "source": [
    "with open(f\"{EXAMPLE_DIR}/saynt.pickle\", 'rb') as handle:\n",
    "    subfamily_saynt_results = pickle.load(handle)"
   ]
  },
  {
   "cell_type": "code",
   "execution_count": null,
   "metadata": {},
   "outputs": [],
   "source": [
    "with open(f\"{EXAMPLE_DIR}/paynt.pickle\", 'rb') as handle:\n",
    "    subfamily_paynt_results = pickle.load(handle)"
   ]
  },
  {
   "cell_type": "code",
   "execution_count": null,
   "metadata": {},
   "outputs": [],
   "source": [
    "with open(f\"{EXAMPLE_DIR}/gradient.pickle\", 'rb') as handle:\n",
    "    subfamily_gd_results = pickle.load(handle)"
   ]
  },
  {
   "cell_type": "code",
   "execution_count": null,
   "metadata": {},
   "outputs": [],
   "source": [
    "make_heatmap(subfamily_paynt_results, ours, \"Illustrative Example\", \"Paynt\", minimizing=True)"
   ]
  },
  {
   "cell_type": "code",
   "execution_count": null,
   "metadata": {},
   "outputs": [],
   "source": [
    "make_heatmap(subfamily_saynt_results, ours, \"Illustrative Example\", \"Saynt\", minimizing=True)"
   ]
  },
  {
   "cell_type": "code",
   "execution_count": null,
   "metadata": {},
   "outputs": [],
   "source": [
    "make_heatmap(subfamily_gd_results, ours, \"Illustrative Example\", \"GD\", minimizing=True)"
   ]
  },
  {
   "cell_type": "markdown",
   "metadata": {},
   "source": [
    "# DPM"
   ]
  },
  {
   "cell_type": "markdown",
   "metadata": {},
   "source": [
    "timeout = 10s"
   ]
  },
  {
   "cell_type": "code",
   "execution_count": null,
   "metadata": {},
   "outputs": [],
   "source": [
    "dpm_our = [504.76099479, 496.6463078,  522.29707964, 471.26597349, 483.96767624,\n",
    " 463.09737765, 294.67001291, 498.28841493, 510.35243059, 509.71750883]"
   ]
  },
  {
   "cell_type": "code",
   "execution_count": null,
   "metadata": {},
   "outputs": [],
   "source": [
    "create_heatmap('dpm', minimizing=False)"
   ]
  },
  {
   "cell_type": "code",
   "execution_count": null,
   "metadata": {},
   "outputs": [],
   "source": [
    "make_heatmap(subfamily_saynt_results, ours, \"DPM\", \"Saynt\", minimizing=False)"
   ]
  },
  {
   "cell_type": "code",
   "execution_count": null,
   "metadata": {},
   "outputs": [],
   "source": [
    "make_heatmap(subfamily_gd_results, ours, \"DPM\", \"GD\", minimizing=False)"
   ]
  },
  {
   "cell_type": "markdown",
   "metadata": {},
   "source": [
    "# OBSTACLES 8 3"
   ]
  },
  {
   "cell_type": "markdown",
   "metadata": {},
   "source": [
    "timeout = 30s"
   ]
  },
  {
   "cell_type": "markdown",
   "metadata": {},
   "source": []
  },
  {
   "cell_type": "code",
   "execution_count": null,
   "metadata": {},
   "outputs": [],
   "source": [
    "with open(f\"{BASE_DIR}/obstacles-8-3/{SUBFAMILY_SIZE}/saynt.pickle\", 'rb') as handle:\n",
    "    saynt = pickle.load(handle)"
   ]
  },
  {
   "cell_type": "code",
   "execution_count": null,
   "metadata": {},
   "outputs": [],
   "source": [
    "with open(f\"{BASE_DIR}/obstacles-8-3/{SUBFAMILY_SIZE}/gradient.pickle\", 'rb') as handle:\n",
    "    gradient = pickle.load(handle)"
   ]
  },
  {
   "cell_type": "code",
   "execution_count": null,
   "metadata": {},
   "outputs": [],
   "source": [
    "with open(f\"{BASE_DIR}/obstacles-8-3/{SUBFAMILY_SIZE}/ours.pickle\", 'rb') as handle:\n",
    "    ours = pickle.load(handle)"
   ]
  },
  {
   "cell_type": "code",
   "execution_count": null,
   "metadata": {},
   "outputs": [],
   "source": [
    "make_heatmap(saynt, ours, \"OBSTACLES(8,3)\", \"Saynt\")"
   ]
  },
  {
   "cell_type": "markdown",
   "metadata": {},
   "source": [
    "## Gradient baseline"
   ]
  },
  {
   "cell_type": "code",
   "execution_count": null,
   "metadata": {},
   "outputs": [],
   "source": [
    "make_heatmap(gradient, ours, \"OBSTACLES(8,3)\", \"GD\")"
   ]
  },
  {
   "cell_type": "markdown",
   "metadata": {},
   "source": [
    "# OBSTACLES 10 2"
   ]
  },
  {
   "cell_type": "markdown",
   "metadata": {},
   "source": [
    "timeout = 10s"
   ]
  },
  {
   "cell_type": "code",
   "execution_count": null,
   "metadata": {},
   "outputs": [],
   "source": [
    "with open(f\"{BASE_DIR}/obstacles-10-2/{SUBFAMILY_SIZE}/ours.pickle\", 'rb') as handle:\n",
    "    ours = pickle.load(handle)"
   ]
  },
  {
   "cell_type": "code",
   "execution_count": null,
   "metadata": {},
   "outputs": [],
   "source": [
    "with open(f\"{BASE_DIR}/obstacles-10-2/{SUBFAMILY_SIZE}/saynt.pickle\", 'rb') as handle:\n",
    "    subfamily_saynt_results = pickle.load(handle)"
   ]
  },
  {
   "cell_type": "code",
   "execution_count": null,
   "metadata": {},
   "outputs": [],
   "source": [
    "with open(f\"{BASE_DIR}/obstacles-10-2/{SUBFAMILY_SIZE}/gradient.pickle\", 'rb') as handle:\n",
    "    subfamily_gd_results = pickle.load(handle)"
   ]
  },
  {
   "cell_type": "code",
   "execution_count": null,
   "metadata": {},
   "outputs": [],
   "source": [
    "ours_raw = [27.85853738, 28.71888006, 30.78940948, 28.75065993, 29.3297606,  30.77959397,\n",
    " 29.48840814, 29.3297606,  28.22878829, 30.14997737]"
   ]
  },
  {
   "cell_type": "code",
   "execution_count": null,
   "metadata": {},
   "outputs": [],
   "source": [
    "make_heatmap(subfamily_saynt_results, ours, \"OBSTACLES(10,2)\", \"Saynt\")"
   ]
  },
  {
   "cell_type": "code",
   "execution_count": null,
   "metadata": {},
   "outputs": [],
   "source": [
    "make_heatmap(subfamily_gd_results, ours, \"OBSTACLES(10,2)\", \"GD\")"
   ]
  },
  {
   "cell_type": "markdown",
   "metadata": {},
   "source": [
    "# AVOID"
   ]
  },
  {
   "cell_type": "markdown",
   "metadata": {},
   "source": [
    "timeout = 60s"
   ]
  },
  {
   "cell_type": "code",
   "execution_count": null,
   "metadata": {},
   "outputs": [],
   "source": [
    "with open(f\"{BASE_DIR}/avoid/{SUBFAMILY_SIZE}/ours.pickle\", 'rb') as handle:\n",
    "    ours = pickle.load(handle)"
   ]
  },
  {
   "cell_type": "code",
   "execution_count": null,
   "metadata": {},
   "outputs": [],
   "source": [
    "ours"
   ]
  },
  {
   "cell_type": "code",
   "execution_count": null,
   "metadata": {},
   "outputs": [],
   "source": [
    "# with open(f\"{BASE_DIR}/avoid/{SUBFAMILY_SIZE}/paynt.pickle\", 'rb') as handle:\n",
    "#     subfamily_paynt_results = pickle.load(handle)"
   ]
  },
  {
   "cell_type": "code",
   "execution_count": null,
   "metadata": {},
   "outputs": [],
   "source": [
    "with open(f\"{BASE_DIR}/avoid/{SUBFAMILY_SIZE}/gradient.pickle\", 'rb') as handle:\n",
    "    subfamily_gd_results = pickle.load(handle)"
   ]
  },
  {
   "cell_type": "code",
   "execution_count": null,
   "metadata": {},
   "outputs": [],
   "source": [
    "with open(f\"{BASE_DIR}/avoid/{SUBFAMILY_SIZE}/saynt.pickle\", 'rb') as handle:\n",
    "    subfamily_saynt_results = pickle.load(handle)"
   ]
  },
  {
   "cell_type": "code",
   "execution_count": null,
   "metadata": {},
   "outputs": [],
   "source": [
    "l = [51.94674404, 65.42364497, 63.76348781, 98.68745545, 32.52550974, 67.09607064,\n",
    " 87.41523619, 64.81453459, 53.95332456, 56.50783793]"
   ]
  },
  {
   "cell_type": "code",
   "execution_count": null,
   "metadata": {},
   "outputs": [],
   "source": [
    "make_heatmap(subfamily_saynt_results, ours, \"AVOID\", \"Saynt\")"
   ]
  },
  {
   "cell_type": "code",
   "execution_count": null,
   "metadata": {},
   "outputs": [],
   "source": [
    "# make_heatmap(subfamily_paynt_results, ours, \"AVOID\", \"Paynt\")"
   ]
  },
  {
   "cell_type": "code",
   "execution_count": null,
   "metadata": {},
   "outputs": [],
   "source": [
    "make_heatmap(subfamily_gd_results, ours, \"AVOID\", \"GD\")"
   ]
  },
  {
   "cell_type": "markdown",
   "metadata": {},
   "source": [
    "# UNIONS"
   ]
  },
  {
   "cell_type": "code",
   "execution_count": null,
   "metadata": {},
   "outputs": [],
   "source": [
    "ENVS"
   ]
  },
  {
   "cell_type": "code",
   "execution_count": null,
   "metadata": {},
   "outputs": [],
   "source": [
    "# ENVS = ['dpm', 'network', 'obstacles-8-3', 'obstacles-10-2', 'rover']\n",
    "\n",
    "for env, minimizing in zip(ENVS, MINIMIZING):\n",
    "    if 'avoid' in env.lower(): continue\n",
    "    values = np.zeros((1, 11))\n",
    "    # print(env)\n",
    "    with open(f\"{BASE_DIR}/{env}/union/union.pickle\", 'rb') as handle:\n",
    "        results = pickle.load(handle)\n",
    "    values[0, :-1] = results['subfamily']\n",
    "    values[0, -1]  = results['whole_family']\n",
    "    \n",
    "    with open(f\"{BASE_DIR}/{env}/{SUBFAMILY_SIZE}/ours.pickle\", 'rb') as handle:\n",
    "        our_results = pickle.load(handle)\n",
    "        \n",
    "    with open(f\"{BASE_DIR}/{env}/gd-experiment.pickle\", 'rb') as handle:\n",
    "        rfpg_results = pickle.load(handle)\n",
    "    \n",
    "    print(rfpg_results['gd-normal'].keys())\n",
    "        \n",
    "    print(env.upper(), f\"MINIMIZING={minimizing}\", results['subfamily'], f\"UNION worst out of subfamily: {max(results['subfamily']) if minimizing else min(results['subfamily'])}\", f\"UNION Whole family worst: {results['whole_family']}\", sep='\\n')\n",
    "    print(our_results['ours'], f\"OURS worst out of subfamily: {max(our_results['ours']) if minimizing else min(our_results['ours'])}\", f\"OURS Whole family worst: {our_results['whole_family']}\", sep='\\n')\n",
    "    print(f\"OURS FULL GD whole family worst: {rfpg_results['gd-normal']['best_worst_value']}\")\n",
    "    \n",
    "\n",
    "    # plt.figure()\n",
    "    # sns.heatmap(values, yticklabels=[env], annot=True, vmin=np.nanmin(values), vmax=np.nanmax(values), cmap=sns.cm.rocket_r if minimizing else sns.cm.rocket, mask=~np.isfinite(values), fmt='.2f')\n",
    "    # plt.show()"
   ]
  },
  {
   "cell_type": "code",
   "execution_count": null,
   "metadata": {},
   "outputs": [],
   "source": [
    "results"
   ]
  },
  {
   "cell_type": "code",
   "execution_count": null,
   "metadata": {},
   "outputs": [],
   "source": []
  }
 ],
 "metadata": {
  "kernelspec": {
   "display_name": "venv",
   "language": "python",
   "name": "python3"
  },
  "language_info": {
   "codemirror_mode": {
    "name": "ipython",
    "version": 3
   },
   "file_extension": ".py",
   "mimetype": "text/x-python",
   "name": "python",
   "nbconvert_exporter": "python",
   "pygments_lexer": "ipython3",
   "version": "3.12.3"
  }
 },
 "nbformat": 4,
 "nbformat_minor": 2
}
