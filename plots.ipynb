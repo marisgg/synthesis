{
 "cells": [
  {
   "cell_type": "code",
   "execution_count": null,
   "metadata": {},
   "outputs": [],
   "source": [
    "import pickle\n",
    "import numpy as np\n",
    "import pandas as pd\n",
    "import seaborn as sns\n",
    "import matplotlib.pyplot as plt\n",
    "from matplotlib.patches import Rectangle\n",
    "import operator\n",
    "import os"
   ]
  },
  {
   "cell_type": "code",
   "execution_count": null,
   "metadata": {},
   "outputs": [],
   "source": [
    "# BASE_DIR='./outputs/second'\n",
    "BASE_DIR='./output-union'\n",
    "# BASE_DIR='./bert/output-merged'\n",
    "SUBFAMILY_SIZE=5"
   ]
  },
  {
   "cell_type": "code",
   "execution_count": null,
   "metadata": {},
   "outputs": [],
   "source": [
    "OUTPUT_DIR = \"./plot_builder_output\"\n",
    "os.makedirs(f\"{OUTPUT_DIR}/heatmaps\", exist_ok=True)\n",
    "os.makedirs(f\"{OUTPUT_DIR}/lineplot\", exist_ok=True)"
   ]
  },
  {
   "cell_type": "code",
   "execution_count": null,
   "metadata": {},
   "outputs": [],
   "source": [
    "def make_heatmap(results : dict, our_results : dict, title : str, baseline : str, minimizing = True, add_whole_family_value = True):\n",
    "    values = np.array([list(item[-2].values()) for train, item in results.items()]).squeeze(axis=-1)\n",
    "    values[~np.isfinite(values)] = np.nan\n",
    "    # if add_whole_family_value:\n",
    "        # entire_family_values = np.array([item[-1] for train, item in results.items()])\n",
    "        # values = np.hstack([values, entire_family_values[..., None]])\n",
    "    values = np.vstack([values, our_results['ours']])\n",
    "    if add_whole_family_value:\n",
    "        entire_family_values = np.array([item[-1] if item[-1] is not None else np.nan for train, item in results.items()] + [our_results['whole_family']])\n",
    "        # entire_family_values[~np.isfinite(entire_family_values)] = np.nan\n",
    "        values = np.hstack([values, entire_family_values[..., None]])\n",
    "    plt.figure(figsize=(16,9))\n",
    "    \n",
    "    ax = sns.heatmap(values, annot=True, vmin=np.nanmin(values), vmax=np.nanmax(values), cmap=sns.cm.rocket_r if minimizing else sns.cm.rocket, mask=~np.isfinite(values), fmt='.2f')\n",
    "    \n",
    "    # if add_whole_family_value:\n",
    "        # ax.add_patch(Rectangle((0,0), 10, 11, fill=False, edgecolor='white', lw=3)) # White bounding box\n",
    "    \n",
    "    subfamily_size = len(results.keys())\n",
    "    \n",
    "    best_value = np.inf if minimizing else -np.inf\n",
    "    for r in range(values.shape[0]):\n",
    "        row_values = values[r][:-1] if add_whole_family_value else values[r]\n",
    "        idx = np.nanargmax(row_values) if minimizing else np.nanargmin(row_values)\n",
    "        cmp = operator.le if minimizing else operator.ge\n",
    "        if cmp(row_values[idx], best_value):\n",
    "            best_value = row_values[idx]\n",
    "            best_rectangle = (idx, r)\n",
    "        ax.add_patch(Rectangle((idx, r),1,1, fill=False, edgecolor='blue', lw=3))\n",
    "    ax.add_patch(Rectangle(best_rectangle,1,1, fill=False, edgecolor='green', lw=3))\n",
    "    \n",
    "    if add_whole_family_value:\n",
    "        best_family_idx = np.nanargmin(values[:, -1]) if minimizing else np.nanargmax(values[:, -1])\n",
    "        ax.add_patch(Rectangle((subfamily_size, best_family_idx),1,1, fill=False, edgecolor='green', lw=3))\n",
    "    \n",
    "    ax.set_xlabel(\"Test\")\n",
    "    ax.set_ylabel(\"Train\")\n",
    "    plt.yticks(rotation=0) \n",
    "    xticks = [f\"{i}\" for i in range(subfamily_size)]\n",
    "    if add_whole_family_value:\n",
    "        xticks += [\"Entire family\"]\n",
    "    ax.set_xticklabels(xticks) \n",
    "    ax.set_yticklabels([f\"{baseline} on {i} ({results[i][1].num_nodes}-FSC)\" for i in range(subfamily_size)] + [\"Ours: GD on (sub)family\"])\n",
    "    ax.set_title(f\"{title}: {baseline} vs Ours ({'lower' if minimizing else 'higher'} is better)\")\n",
    "    plt.tight_layout()\n",
    "    plt.savefig(f\"{OUTPUT_DIR}/heatmaps/{title}-{baseline}.png\")"
   ]
  },
  {
   "cell_type": "code",
   "execution_count": null,
   "metadata": {},
   "outputs": [],
   "source": [
    "import math\n",
    "import random\n",
    "\n",
    "\n",
    "def make_lineplot(results : dict, title : str = 'Placeholder', minimizing = True, type_of_plot = 'family_trace'):\n",
    "    fig = plt.figure()\n",
    "    ax = fig.gca()\n",
    "    plt.title(f\"{title} ({'lower' if minimizing else 'higher'} is better)\")\n",
    "    plt.xlabel(\"Iteration\")\n",
    "    plt.ylabel(\"Worst family member value\")\n",
    "    ax.plot(results['gd-normal'][type_of_plot], label='rfPG', color='green')\n",
    "    \n",
    "    min_x_normal = np.argmin(results['gd-normal'][type_of_plot]) if minimizing else np.argmax(results['gd-normal'][type_of_plot])\n",
    "    min_y_normal = results['gd-normal'][type_of_plot][min_x_normal]\n",
    "    \n",
    "    plt.plot(results['gd-no-momentum'][type_of_plot], label='rfPG (no momentum)', color='blue')\n",
    "    \n",
    "    min_x_no_mom = np.argmin(results['gd-no-momentum'][type_of_plot]) if minimizing else np.argmax(results['gd-no-momentum'][type_of_plot])\n",
    "    min_y_no_mom = results['gd-no-momentum'][type_of_plot][min_x_no_mom]\n",
    "    \n",
    "    \n",
    "    ax.plot(results['gd-random'][type_of_plot], label='Random rfPG',  color='red')\n",
    "    \n",
    "    min_x = np.argmin(results['gd-random'][type_of_plot]) if minimizing else np.argmax(results['gd-random'][type_of_plot])\n",
    "    min_y = results['gd-random'][type_of_plot][min_x]\n",
    "    \n",
    "    mini = min([min_x, min_x_normal, min_x_no_mom])\n",
    "    maxi = max([min_x, min_x_normal, min_x_no_mom])\n",
    "    \n",
    "    def get(x):\n",
    "        if math.isclose(mini, maxi) and math.isclose(x, maxi):\n",
    "            return random.randint(-50, 50)\n",
    "        elif math.isclose(x, maxi):\n",
    "            return 50\n",
    "        elif math.isclose(x, mini):\n",
    "            return -50\n",
    "        else:\n",
    "            return 0\n",
    "    \n",
    "    ax.annotate(f\"{min_y:.2f}\",\n",
    "            xy=(min_x, min_y), xycoords='data',\n",
    "            xytext=(get(min_x), (50 if minimizing else -50)), textcoords='offset points',\n",
    "            arrowprops=dict(facecolor='red', shrink=0),\n",
    "            horizontalalignment='center', verticalalignment='bottom')\n",
    "    \n",
    "    ax.annotate(f\"{min_y_normal:.2f}\",\n",
    "                xy=(min_x_normal, min_y_normal), xycoords='data',\n",
    "                xytext=(get(min_x_normal), (50 if minimizing else -50)), textcoords='offset points',\n",
    "                arrowprops=dict(facecolor='green', shrink=0),\n",
    "                horizontalalignment='center', verticalalignment='bottom')\n",
    "    \n",
    "    ax.annotate(f\"{min_y_no_mom:.2f}\",\n",
    "        xy=(min_x_no_mom, min_y_no_mom), xycoords='data',\n",
    "        xytext=(get(min_x_no_mom), (50 if minimizing else -50)), textcoords='offset points',\n",
    "        arrowprops=dict(facecolor='blue', shrink=0),\n",
    "        horizontalalignment='center', verticalalignment='bottom')\n",
    "    \n",
    "    plt.legend()\n",
    "    plt.tight_layout()\n",
    "    plt.savefig(f\"{OUTPUT_DIR}/lineplot/{title}.png\")\n",
    "    plt.show()"
   ]
  },
  {
   "cell_type": "code",
   "execution_count": null,
   "metadata": {},
   "outputs": [],
   "source": [
    "results['gd-normal'].keys()"
   ]
  },
  {
   "cell_type": "code",
   "execution_count": null,
   "metadata": {},
   "outputs": [],
   "source": [
    "ENVS = ['dpm', 'obstacles-10-2', 'avoid', 'obstacles-8-3', 'rover', 'network']\n",
    "MINIMIZING = [False, True, True, True, False, False]"
   ]
  },
  {
   "cell_type": "code",
   "execution_count": null,
   "metadata": {},
   "outputs": [],
   "source": [
    "for env, minimizing in zip(ENVS, MINIMIZING):\n",
    "    try:\n",
    "        with open(f\"{BASE_DIR}/{env}/gd-experiment.pickle\", 'rb') as handle:\n",
    "            results = pickle.load(handle)\n",
    "            make_lineplot(results, title=env, minimizing=minimizing)\n",
    "    except FileNotFoundError as fnfe:\n",
    "        print(fnfe)"
   ]
  },
  {
   "cell_type": "markdown",
   "metadata": {},
   "source": [
    "# DPM"
   ]
  },
  {
   "cell_type": "markdown",
   "metadata": {},
   "source": [
    "timeout = 10s"
   ]
  },
  {
   "cell_type": "code",
   "execution_count": null,
   "metadata": {},
   "outputs": [],
   "source": [
    "dpm_our = [504.76099479, 496.6463078,  522.29707964, 471.26597349, 483.96767624,\n",
    " 463.09737765, 294.67001291, 498.28841493, 510.35243059, 509.71750883]"
   ]
  },
  {
   "cell_type": "code",
   "execution_count": null,
   "metadata": {},
   "outputs": [],
   "source": [
    "with open(f\"{BASE_DIR}/dpm/{SUBFAMILY_SIZE}/ours.pickle\", 'rb') as handle:\n",
    "    ours = pickle.load(handle)"
   ]
  },
  {
   "cell_type": "code",
   "execution_count": null,
   "metadata": {},
   "outputs": [],
   "source": [
    "with open(f\"{BASE_DIR}/dpm/{SUBFAMILY_SIZE}/saynt.pickle\", 'rb') as handle:\n",
    "    subfamily_saynt_results = pickle.load(handle)"
   ]
  },
  {
   "cell_type": "code",
   "execution_count": null,
   "metadata": {},
   "outputs": [],
   "source": [
    "for i in range(SUBFAMILY_SIZE):\n",
    "    fsc = subfamily_saynt_results[i][1]\n",
    "    print(i, fsc.num_nodes)\n",
    "    for j in range(fsc.num_nodes):\n",
    "        print(fsc.update_function[j])"
   ]
  },
  {
   "cell_type": "code",
   "execution_count": null,
   "metadata": {},
   "outputs": [],
   "source": [
    "with open(f\"{BASE_DIR}/dpm/{SUBFAMILY_SIZE}/gradient.pickle\", 'rb') as handle:\n",
    "    subfamily_gd_results = pickle.load(handle)"
   ]
  },
  {
   "cell_type": "code",
   "execution_count": null,
   "metadata": {},
   "outputs": [],
   "source": [
    "ours"
   ]
  },
  {
   "cell_type": "code",
   "execution_count": null,
   "metadata": {},
   "outputs": [],
   "source": [
    "make_heatmap(subfamily_saynt_results, ours, \"DPM\", \"Saynt\", minimizing=False)"
   ]
  },
  {
   "cell_type": "code",
   "execution_count": null,
   "metadata": {},
   "outputs": [],
   "source": [
    "make_heatmap(subfamily_gd_results, ours, \"DPM\", \"GD\", minimizing=False)"
   ]
  },
  {
   "cell_type": "markdown",
   "metadata": {},
   "source": [
    "# OBSTACLES 8 3"
   ]
  },
  {
   "cell_type": "markdown",
   "metadata": {},
   "source": [
    "timeout = 30s"
   ]
  },
  {
   "cell_type": "markdown",
   "metadata": {},
   "source": []
  },
  {
   "cell_type": "code",
   "execution_count": null,
   "metadata": {},
   "outputs": [],
   "source": [
    "with open(f\"{BASE_DIR}/obstacles-8-3/{SUBFAMILY_SIZE}/saynt.pickle\", 'rb') as handle:\n",
    "    saynt = pickle.load(handle)"
   ]
  },
  {
   "cell_type": "code",
   "execution_count": null,
   "metadata": {},
   "outputs": [],
   "source": [
    "with open(f\"{BASE_DIR}/obstacles-8-3/{SUBFAMILY_SIZE}/gradient.pickle\", 'rb') as handle:\n",
    "    gradient = pickle.load(handle)"
   ]
  },
  {
   "cell_type": "code",
   "execution_count": null,
   "metadata": {},
   "outputs": [],
   "source": [
    "with open(f\"{BASE_DIR}/obstacles-8-3/{SUBFAMILY_SIZE}/ours.pickle\", 'rb') as handle:\n",
    "    ours = pickle.load(handle)"
   ]
  },
  {
   "cell_type": "code",
   "execution_count": null,
   "metadata": {},
   "outputs": [],
   "source": [
    "make_heatmap(saynt, ours, \"OBSTACLES(8,3)\", \"Saynt\")"
   ]
  },
  {
   "cell_type": "markdown",
   "metadata": {},
   "source": [
    "## Gradient baseline"
   ]
  },
  {
   "cell_type": "code",
   "execution_count": null,
   "metadata": {},
   "outputs": [],
   "source": [
    "make_heatmap(gradient, ours, \"OBSTACLES(8,3)\", \"GD\")"
   ]
  },
  {
   "cell_type": "markdown",
   "metadata": {},
   "source": [
    "# OBSTACLES 10 2"
   ]
  },
  {
   "cell_type": "markdown",
   "metadata": {},
   "source": [
    "timeout = 10s"
   ]
  },
  {
   "cell_type": "code",
   "execution_count": null,
   "metadata": {},
   "outputs": [],
   "source": [
    "with open(f\"{BASE_DIR}/obstacles-10-2/{SUBFAMILY_SIZE}/ours.pickle\", 'rb') as handle:\n",
    "    ours = pickle.load(handle)"
   ]
  },
  {
   "cell_type": "code",
   "execution_count": null,
   "metadata": {},
   "outputs": [],
   "source": [
    "with open(f\"{BASE_DIR}/obstacles-10-2/{SUBFAMILY_SIZE}/saynt.pickle\", 'rb') as handle:\n",
    "    subfamily_saynt_results = pickle.load(handle)"
   ]
  },
  {
   "cell_type": "code",
   "execution_count": null,
   "metadata": {},
   "outputs": [],
   "source": [
    "print(\"Obstacles(10, 2):\")\n",
    "for i in range(SUBFAMILY_SIZE):\n",
    "    fsc = subfamily_saynt_results[i][1]\n",
    "    print(\"POMDP\", i, 'with a', f\"{fsc.num_nodes}-FSC. Memory model:\", fsc.memory_model)\n",
    "    # for j in range(fsc.num_nodes):\n",
    "        # print(fsc.update_function[j])\n",
    "        # print(\"Node\", j, [list(d.keys())[0] for d in fsc.update_function[j] if len(d) == 1])"
   ]
  },
  {
   "cell_type": "code",
   "execution_count": null,
   "metadata": {},
   "outputs": [],
   "source": [
    "with open(f\"{BASE_DIR}/obstacles-10-2/{SUBFAMILY_SIZE}/gradient.pickle\", 'rb') as handle:\n",
    "    subfamily_gd_results = pickle.load(handle)"
   ]
  },
  {
   "cell_type": "code",
   "execution_count": null,
   "metadata": {},
   "outputs": [],
   "source": [
    "ours_raw = [27.85853738, 28.71888006, 30.78940948, 28.75065993, 29.3297606,  30.77959397,\n",
    " 29.48840814, 29.3297606,  28.22878829, 30.14997737]"
   ]
  },
  {
   "cell_type": "code",
   "execution_count": null,
   "metadata": {},
   "outputs": [],
   "source": [
    "ours"
   ]
  },
  {
   "cell_type": "code",
   "execution_count": null,
   "metadata": {},
   "outputs": [],
   "source": [
    "make_heatmap(subfamily_saynt_results, ours, \"OBSTACLES(10,2)\", \"Saynt\")"
   ]
  },
  {
   "cell_type": "code",
   "execution_count": null,
   "metadata": {},
   "outputs": [],
   "source": [
    "make_heatmap(subfamily_gd_results, ours, \"OBSTACLES(10,2)\", \"GD\")"
   ]
  },
  {
   "cell_type": "markdown",
   "metadata": {},
   "source": [
    "# AVOID"
   ]
  },
  {
   "cell_type": "markdown",
   "metadata": {},
   "source": [
    "timeout = 60s"
   ]
  },
  {
   "cell_type": "code",
   "execution_count": null,
   "metadata": {},
   "outputs": [],
   "source": [
    "with open(f\"{BASE_DIR}/avoid/{SUBFAMILY_SIZE}/ours.pickle\", 'rb') as handle:\n",
    "    ours = pickle.load(handle)"
   ]
  },
  {
   "cell_type": "code",
   "execution_count": null,
   "metadata": {},
   "outputs": [],
   "source": [
    "ours"
   ]
  },
  {
   "cell_type": "code",
   "execution_count": null,
   "metadata": {},
   "outputs": [],
   "source": [
    "# with open(f\"{BASE_DIR}/avoid/{SUBFAMILY_SIZE}/paynt.pickle\", 'rb') as handle:\n",
    "#     subfamily_paynt_results = pickle.load(handle)"
   ]
  },
  {
   "cell_type": "code",
   "execution_count": null,
   "metadata": {},
   "outputs": [],
   "source": [
    "with open(f\"{BASE_DIR}/avoid/{SUBFAMILY_SIZE}/gradient.pickle\", 'rb') as handle:\n",
    "    subfamily_gd_results = pickle.load(handle)"
   ]
  },
  {
   "cell_type": "code",
   "execution_count": null,
   "metadata": {},
   "outputs": [],
   "source": [
    "with open(f\"{BASE_DIR}/avoid/{SUBFAMILY_SIZE}/saynt.pickle\", 'rb') as handle:\n",
    "    subfamily_saynt_results = pickle.load(handle)"
   ]
  },
  {
   "cell_type": "code",
   "execution_count": null,
   "metadata": {},
   "outputs": [],
   "source": [
    "for i in range(SUBFAMILY_SIZE):\n",
    "    fsc = subfamily_gd_results[i][1]\n",
    "    print(i, fsc.update_function)"
   ]
  },
  {
   "cell_type": "code",
   "execution_count": null,
   "metadata": {},
   "outputs": [],
   "source": [
    "print(\"AVOID:\")\n",
    "for i in range(SUBFAMILY_SIZE):\n",
    "    fsc = subfamily_saynt_results[i][1]\n",
    "    print(\"POMDP\", i, 'with a', f\"{fsc.num_nodes}-FSC. Memory model:\", fsc.memory_model)\n",
    "    # for j in range(fsc.num_nodes):\n",
    "        # print(fsc.update_function[j])\n",
    "        # print(\"Node\", j, [list(d.keys())[0] for d in fsc.update_function[j] if len(d) == 1])"
   ]
  },
  {
   "cell_type": "code",
   "execution_count": null,
   "metadata": {},
   "outputs": [],
   "source": [
    "l = [51.94674404, 65.42364497, 63.76348781, 98.68745545, 32.52550974, 67.09607064,\n",
    " 87.41523619, 64.81453459, 53.95332456, 56.50783793]"
   ]
  },
  {
   "cell_type": "code",
   "execution_count": null,
   "metadata": {},
   "outputs": [],
   "source": [
    "make_heatmap(subfamily_saynt_results, ours, \"AVOID\", \"Saynt\")"
   ]
  },
  {
   "cell_type": "code",
   "execution_count": null,
   "metadata": {},
   "outputs": [],
   "source": [
    "# make_heatmap(subfamily_paynt_results, ours, \"AVOID\", \"Paynt\")"
   ]
  },
  {
   "cell_type": "code",
   "execution_count": null,
   "metadata": {},
   "outputs": [],
   "source": [
    "make_heatmap(subfamily_gd_results, ours, \"AVOID\", \"GD\")"
   ]
  },
  {
   "cell_type": "markdown",
   "metadata": {},
   "source": [
    "# UNIONS"
   ]
  },
  {
   "cell_type": "code",
   "execution_count": null,
   "metadata": {},
   "outputs": [],
   "source": [
    "# ENVS = ['dpm', 'network', 'obstacles-8-3', 'obstacles-10-2', 'rover']\n",
    "\n",
    "for env, minimizing in zip(ENVS, MINIMIZING):\n",
    "    if 'avoid' in env.lower(): continue\n",
    "    values = np.zeros((1, 11))\n",
    "    # print(env)\n",
    "    with open(f\"{BASE_DIR}/{env}/union/union.pickle\", 'rb') as handle:\n",
    "        results = pickle.load(handle)\n",
    "    values[0, :-1] = results['subfamily']\n",
    "    values[0, -1]  = results['whole_family']\n",
    "\n",
    "    print(env, results['subfamily'], max(results['subfamily']) if minimizing else min(results['subfamily']), results['whole_family'], sep='\\n')\n",
    "    # plt.figure()\n",
    "    # sns.heatmap(values, yticklabels=[env], annot=True, vmin=np.nanmin(values), vmax=np.nanmax(values), cmap=sns.cm.rocket_r if minimizing else sns.cm.rocket, mask=~np.isfinite(values), fmt='.2f')\n",
    "    # plt.show()"
   ]
  },
  {
   "cell_type": "code",
   "execution_count": null,
   "metadata": {},
   "outputs": [],
   "source": []
  }
 ],
 "metadata": {
  "kernelspec": {
   "display_name": "venv",
   "language": "python",
   "name": "python3"
  },
  "language_info": {
   "codemirror_mode": {
    "name": "ipython",
    "version": 3
   },
   "file_extension": ".py",
   "mimetype": "text/x-python",
   "name": "python",
   "nbconvert_exporter": "python",
   "pygments_lexer": "ipython3",
   "version": "3.12.3"
  }
 },
 "nbformat": 4,
 "nbformat_minor": 2
}
